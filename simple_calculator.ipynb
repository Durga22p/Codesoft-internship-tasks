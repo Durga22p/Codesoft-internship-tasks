{
 "cells": [
  {
   "cell_type": "code",
   "execution_count": 21,
   "id": "26f6f542-a5d7-459b-acb6-b3f6ced2677e",
   "metadata": {},
   "outputs": [
    {
     "name": "stdin",
     "output_type": "stream",
     "text": [
      "Enter the first number:  66\n",
      "Enter the second number:  34\n",
      "Enter the arithmetic operation:  .\n"
     ]
    },
    {
     "name": "stdout",
     "output_type": "stream",
     "text": [
      "Invalid Operation\n"
     ]
    }
   ],
   "source": [
    "n1=int(input('Enter the first number: '))\n",
    "n2=int(input('Enter the second number: '))\n",
    "arith_oper=input('Enter the arithmetic operation: ')\n",
    "\n",
    "if arith_oper=='+':\n",
    "    print('Addition: ',n1+n2)\n",
    "elif arith_oper=='-':\n",
    "    print('Subtraction: ',n1-n2)\n",
    "elif arith_oper=='*':\n",
    "    print('Multiplication: ',n1*n2)\n",
    "elif arith_oper=='/':\n",
    "    print('Division: ',n1/n2)\n",
    "else:\n",
    "    print('Invalid Operation')\n",
    "    \n",
    "    "
   ]
  },
  {
   "cell_type": "code",
   "execution_count": null,
   "id": "01b2d74c-1aea-44b9-912e-defb276d35cb",
   "metadata": {},
   "outputs": [],
   "source": []
  }
 ],
 "metadata": {
  "kernelspec": {
   "display_name": "Python 3 (ipykernel)",
   "language": "python",
   "name": "python3"
  },
  "language_info": {
   "codemirror_mode": {
    "name": "ipython",
    "version": 3
   },
   "file_extension": ".py",
   "mimetype": "text/x-python",
   "name": "python",
   "nbconvert_exporter": "python",
   "pygments_lexer": "ipython3",
   "version": "3.12.0"
  }
 },
 "nbformat": 4,
 "nbformat_minor": 5
}
