{
 "cells": [
  {
   "cell_type": "code",
   "execution_count": 5,
   "id": "06328bcd-3b28-4ad0-a767-d1983ada3aa1",
   "metadata": {},
   "outputs": [
    {
     "name": "stdout",
     "output_type": "stream",
     "text": [
      "\n",
      "Rock,Paper,Scissors Game\n",
      "Enter 'quit' to end the game.\n"
     ]
    },
    {
     "name": "stdin",
     "output_type": "stream",
     "text": [
      "Enter your choice (rock/paper/scissors):  rock\n"
     ]
    },
    {
     "name": "stdout",
     "output_type": "stream",
     "text": [
      "Computer chooses: scissors\n",
      "You win!\n",
      "Scoreboard - You: 1 | Computer: 0\n",
      "\n",
      "Rock,Paper,Scissors Game\n",
      "Enter 'quit' to end the game.\n"
     ]
    },
    {
     "name": "stdin",
     "output_type": "stream",
     "text": [
      "Enter your choice (rock/paper/scissors):  rock\n"
     ]
    },
    {
     "name": "stdout",
     "output_type": "stream",
     "text": [
      "Computer chooses: scissors\n",
      "You win!\n",
      "Scoreboard - You: 2 | Computer: 0\n",
      "\n",
      "Rock,Paper,Scissors Game\n",
      "Enter 'quit' to end the game.\n"
     ]
    },
    {
     "name": "stdin",
     "output_type": "stream",
     "text": [
      "Enter your choice (rock/paper/scissors):  paper\n"
     ]
    },
    {
     "name": "stdout",
     "output_type": "stream",
     "text": [
      "Computer chooses: rock\n",
      "You win!\n",
      "Scoreboard - You: 3 | Computer: 0\n",
      "\n",
      "Rock,Paper,Scissors Game\n",
      "Enter 'quit' to end the game.\n"
     ]
    },
    {
     "name": "stdin",
     "output_type": "stream",
     "text": [
      "Enter your choice (rock/paper/scissors):  scissors\n"
     ]
    },
    {
     "name": "stdout",
     "output_type": "stream",
     "text": [
      "Computer chooses: rock\n",
      "You lose!\n",
      "Scoreboard - You: 3 | Computer: 1\n",
      "\n",
      "Rock,Paper,Scissors Game\n",
      "Enter 'quit' to end the game.\n"
     ]
    },
    {
     "name": "stdin",
     "output_type": "stream",
     "text": [
      "Enter your choice (rock/paper/scissors):  quit\n"
     ]
    }
   ],
   "source": [
    "import random\n",
    "\n",
    "def game(your_choice,computer_choice):\n",
    "    if your_choice==computer_choice:\n",
    "        return \"It's a tie!\"\n",
    "    elif (your_choice=='rock' and computer_choice == 'scissors') or \\\n",
    "         (your_choice=='scissors' and computer_choice == 'paper') or \\\n",
    "         (your_choice=='paper' and computer_choice == 'rock'):\n",
    "        return \"You win!\"\n",
    "    else:\n",
    "        return \"You lose!\"\n",
    "\n",
    "def main():\n",
    "    your_score = 0\n",
    "    computer_score = 0\n",
    "    while True:\n",
    "        print(\"\\nRock,Paper,Scissors Game\")\n",
    "        print(\"Enter 'quit' to end the game.\")\n",
    "        your_choice=input(\"Enter your choice (rock/paper/scissors): \").lower()\n",
    "        if your_choice=='quit':\n",
    "            break\n",
    "        if your_choice not in ['rock','paper','scissors']:\n",
    "            print(\"Invalid choice. Please enter 'rock','paper',or'scissors'.\")\n",
    "            continue\n",
    "        computer_choice=random.choice(['rock','paper','scissors'])\n",
    "        print(\"Computer chooses:\",computer_choice)\n",
    "        result=game(your_choice,computer_choice)\n",
    "        print(result)\n",
    "        if result==\"You win!\":\n",
    "            your_score+=1\n",
    "        elif result==\"You lose!\":\n",
    "            computer_score+=1\n",
    "        print(\"Scoreboard - You:\",your_score,\"| Computer:\",computer_score)\n",
    "\n",
    "if __name__ == \"__main__\":\n",
    "    main()\n"
   ]
  },
  {
   "cell_type": "code",
   "execution_count": null,
   "id": "67910615-f05e-4100-8d7b-e93cfa81ef9d",
   "metadata": {},
   "outputs": [],
   "source": []
  }
 ],
 "metadata": {
  "kernelspec": {
   "display_name": "Python 3 (ipykernel)",
   "language": "python",
   "name": "python3"
  },
  "language_info": {
   "codemirror_mode": {
    "name": "ipython",
    "version": 3
   },
   "file_extension": ".py",
   "mimetype": "text/x-python",
   "name": "python",
   "nbconvert_exporter": "python",
   "pygments_lexer": "ipython3",
   "version": "3.12.0"
  }
 },
 "nbformat": 4,
 "nbformat_minor": 5
}
